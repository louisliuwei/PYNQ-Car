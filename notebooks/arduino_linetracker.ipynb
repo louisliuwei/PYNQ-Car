{
 "cells": [
  {
   "cell_type": "markdown",
   "metadata": {},
   "source": [
    "# Linetracker Example\n",
    "\n",
    "This example shows how to use the [Linetracker](http://www.dfrobot.com.cn/goods-784.html) on the board.  The Linetraker has 2 models: digital and analog model.\n",
    "\n",
    "For this notebook, a PYNQ Arduino is required, and the pins of linetracker should be set in the A0-A5."
   ]
  },
  {
   "cell_type": "code",
   "execution_count": 4,
   "metadata": {},
   "outputs": [],
   "source": [
    "# Make sure the base overlay is loaded\n",
    "from pynq.overlays.base import BaseOverlay\n",
    "base = BaseOverlay(\"base.bit\")"
   ]
  },
  {
   "cell_type": "markdown",
   "metadata": {},
   "source": [
    "### 1. Instantiate linetracker"
   ]
  },
  {
   "cell_type": "markdown",
   "metadata": {},
   "source": [
    "Before use the linetrackers(at most 2), you should set the pins for them\n",
    "\n",
    "This notebook is also for testing the capacity of linetracker"
   ]
  },
  {
   "cell_type": "code",
   "execution_count": 5,
   "metadata": {},
   "outputs": [],
   "source": [
    "LT_PINS = [\"CHANNEL_A0\",\"CHANNEL_A1\",\"CHANNEL_A2\",\n",
    "           \"CHANNEL_A3\",\"CHANNEL_A4\",\"CHANNEL_A5\"]"
   ]
  },
  {
   "cell_type": "code",
   "execution_count": 6,
   "metadata": {},
   "outputs": [],
   "source": [
    "from pynq.lib.arduino import LT_sen\n",
    "\n",
    "# Instantiate linetracker on Arduino\n",
    "linetrack = LT_sen(base.ARDUINO,\"CHANNEL_A3\",\"CHANNEL_A4\")\n",
    "#default pins is left:CHANNEL_A3, right:CHANNEL_A4\n",
    "#if you set the pins as the default configuration\n",
    "#linetrack = LT_sen(base.ARDUINO) such a format is legal"
   ]
  },
  {
   "cell_type": "markdown",
   "metadata": {},
   "source": [
    "### 2. Test the capacity of linetracker\n",
    "\n",
    "run the code below, linetrackers will print the voltage level every second"
   ]
  },
  {
   "cell_type": "code",
   "execution_count": 7,
   "metadata": {},
   "outputs": [
    {
     "name": "stdout",
     "output_type": "stream",
     "text": [
      "[223, 340, 0.01, 0.02]\n",
      "[229, 351, 0.01, 0.02]\n",
      "[1278, 346, 0.07, 0.02]\n",
      "[65535, 342, 3.33, 0.02]\n",
      "[881, 344, 0.04, 0.02]\n",
      "[221, 344, 0.01, 0.02]\n",
      "[65535, 360, 3.33, 0.02]\n",
      "[65535, 341, 3.33, 0.02]\n",
      "[65535, 354, 3.33, 0.02]\n",
      "[65535, 346, 3.33, 0.02]\n",
      "[65535, 361, 3.33, 0.02]\n",
      "[65535, 979, 3.33, 0.05]\n",
      "[65535, 65535, 3.33, 3.33]\n",
      "[270, 329, 0.01, 0.02]\n",
      "[263, 379, 0.01, 0.02]\n",
      "[1028, 65535, 0.05, 3.33]\n",
      "[324, 65535, 0.02, 3.33]\n",
      "[265, 333, 0.01, 0.02]\n",
      "[261, 340, 0.01, 0.02]\n",
      "[254, 335, 0.01, 0.02]\n",
      "[264, 337, 0.01, 0.02]\n",
      "[262, 342, 0.01, 0.02]\n",
      "[272, 341, 0.01, 0.02]\n",
      "[266, 339, 0.01, 0.02]\n",
      "[257, 341, 0.01, 0.02]\n",
      "[256, 329, 0.01, 0.02]\n",
      "[235, 351, 0.01, 0.02]\n",
      "[231, 344, 0.01, 0.02]\n",
      "[230, 338, 0.01, 0.02]\n",
      "[226, 338, 0.01, 0.02]\n",
      "[228, 340, 0.01, 0.02]\n"
     ]
    },
    {
     "ename": "KeyboardInterrupt",
     "evalue": "",
     "output_type": "error",
     "traceback": [
      "\u001b[0;31m---------------------------------------------------------------------------\u001b[0m",
      "\u001b[0;31mKeyboardInterrupt\u001b[0m                         Traceback (most recent call last)",
      "\u001b[0;32m<ipython-input-7-05e01857dba5>\u001b[0m in \u001b[0;36m<module>\u001b[0;34m()\u001b[0m\n\u001b[1;32m      2\u001b[0m \u001b[0;32mwhile\u001b[0m \u001b[0;34m(\u001b[0m\u001b[0;36m1\u001b[0m\u001b[0;34m)\u001b[0m\u001b[0;34m:\u001b[0m\u001b[0;34m\u001b[0m\u001b[0m\n\u001b[1;32m      3\u001b[0m     \u001b[0mprint\u001b[0m\u001b[0;34m(\u001b[0m\u001b[0mlinetrack\u001b[0m\u001b[0;34m.\u001b[0m\u001b[0mread_lt_data\u001b[0m\u001b[0;34m(\u001b[0m\u001b[0;34m)\u001b[0m\u001b[0;34m)\u001b[0m\u001b[0;34m\u001b[0m\u001b[0m\n\u001b[0;32m----> 4\u001b[0;31m     \u001b[0msleep\u001b[0m\u001b[0;34m(\u001b[0m\u001b[0;36m1\u001b[0m\u001b[0;34m)\u001b[0m\u001b[0;34m\u001b[0m\u001b[0m\n\u001b[0m",
      "\u001b[0;31mKeyboardInterrupt\u001b[0m: "
     ]
    }
   ],
   "source": [
    "from time import sleep\n",
    "while (1):\n",
    "    print(linetrack.read_lt_data())\n",
    "    sleep(1)"
   ]
  },
  {
   "cell_type": "code",
   "execution_count": null,
   "metadata": {},
   "outputs": [],
   "source": []
  }
 ],
 "metadata": {
  "kernelspec": {
   "display_name": "Python 3",
   "language": "python",
   "name": "python3"
  },
  "language_info": {
   "codemirror_mode": {
    "name": "ipython",
    "version": 3
   },
   "file_extension": ".py",
   "mimetype": "text/x-python",
   "name": "python",
   "nbconvert_exporter": "python",
   "pygments_lexer": "ipython3",
   "version": "3.6.5"
  }
 },
 "nbformat": 4,
 "nbformat_minor": 1
}
