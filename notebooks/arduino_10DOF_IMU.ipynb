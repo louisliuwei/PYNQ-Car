{
 "cells": [
  {
   "cell_type": "markdown",
   "metadata": {},
   "source": [
    "# 10DOF IMU Example\n",
    "\n",
    "This example shows how to use the [10DOF IMU sensor](http://www.dfrobot.com.cn/goods-1860.html) on the board. This IMU has the ability to acquire data from accelerometer, gyroscope and magnetometer, process the data in embedded MCU.\n",
    "\n",
    "For this notebook, a PYNQ Arduino is required, and the IMU sensor should connect to the I2C interface."
   ]
  },
  {
   "cell_type": "markdown",
   "metadata": {},
   "source": [
    "### 1. Load overlay"
   ]
  },
  {
   "cell_type": "code",
   "execution_count": 1,
   "metadata": {},
   "outputs": [
    {
     "data": {
      "application/javascript": [
       "\n",
       "require(['notebook/js/codecell'], function(codecell) {\n",
       "  codecell.CodeCell.options_default.highlight_modes[\n",
       "      'magic_text/x-csrc'] = {'reg':[/^%%microblaze/]};\n",
       "  Jupyter.notebook.events.one('kernel_ready.Kernel', function(){\n",
       "      Jupyter.notebook.get_cells().map(function(cell){\n",
       "          if (cell.cell_type == 'code'){ cell.auto_highlight(); } }) ;\n",
       "  });\n",
       "});\n"
      ]
     },
     "metadata": {},
     "output_type": "display_data"
    }
   ],
   "source": [
    "from pynq.overlays.base import BaseOverlay\n",
    "base = BaseOverlay(\"Robot.bit\")"
   ]
  },
  {
   "cell_type": "markdown",
   "metadata": {},
   "source": [
    "### 2. Read single axis data\n",
    "This example shows on how to get a Axis data from the 10DOF IMU sensor.\n",
    "\n",
    "10DOF IMU sensor contains accelerometer, gyroscope and magnetometer, which can provides real-time raw sample of the sensed acceleration, angular rate and magnetic field."
   ]
  },
  {
   "cell_type": "code",
   "execution_count": null,
   "metadata": {},
   "outputs": [],
   "source": [
    "import math\n",
    "from pynq.lib.arduino import TenDOF_IMU\n",
    "IMU = TenDOF_IMU(base.ARDUINO, channel = 1)"
   ]
  },
  {
   "cell_type": "code",
   "execution_count": null,
   "metadata": {},
   "outputs": [],
   "source": [
    "[ax, ay, az, gx, gy, gz, mx, my, mz] = IMU.get_axis()\n",
    "print(\"Acceleration is\",float(\"{0:.2f}\".format(ax)),float(\"{0:.2f}\".format(ay)),float(\"{0:.2f}\".format(az)))\n",
    "print(\"Angular rate is\",float(\"{0:.2f}\".format(gx)),float(\"{0:.2f}\".format(gy)),float(\"{0:.2f}\".format(gz)))\n",
    "print(\"Magnetic field is\",float(\"{0:.2f}\".format(mx)),float(\"{0:.2f}\".format(my)),float(\"{0:.2f}\".format(mz)))"
   ]
  },
  {
   "cell_type": "markdown",
   "metadata": {},
   "source": [
    "### 3. Read temperature and pressure data\n",
    "This example shows on how to get a temperature and pressure data from the 10DOF IMU sensor.\n",
    "\n",
    "It's worth noting that the pressure retrieved from the 10DOF IMU sensor is an integer. And its unit is Pascal."
   ]
  },
  {
   "cell_type": "code",
   "execution_count": null,
   "metadata": {},
   "outputs": [],
   "source": [
    "temp = IMU.get_temperature()\n",
    "pres = IMU.get_pressure()\n",
    "print(\"Temperature is\",float(\"{0:.2f}\".format(temp)))\n",
    "print(\"Pressure is\",pres)"
   ]
  },
  {
   "cell_type": "markdown",
   "metadata": {},
   "source": [
    "### 4. Advanced: Read Euler angle and Quaternion\n",
    "The 10DOF IMU sensor possess a on-chip MCU which can calculate the Euler angle and Quaternion based on the information from the three sensors which may relieve the user's work on sensor fusion.This example shows how to get the data from the sensor."
   ]
  },
  {
   "cell_type": "code",
   "execution_count": null,
   "metadata": {},
   "outputs": [],
   "source": [
    "[head, roll, pitch] = IMU.get_eul()\n",
    "print(\"The Euler angle-- Head:\",float(\"{0:.2f}\".format(head)),\"Roll:\",float(\"{0:.2f}\".format(roll)),\"Pitch:\",float(\"{0:.2f}\".format(pitch)))"
   ]
  },
  {
   "cell_type": "code",
   "execution_count": null,
   "metadata": {},
   "outputs": [],
   "source": [
    "[w, x, y, z] = IMU.get_qua()\n",
    "print(\"The Quaternion-- w:\",w,\"x:\",x,\"y:\",y,\"z:\",z)"
   ]
  },
  {
   "cell_type": "markdown",
   "metadata": {},
   "source": [
    "Although we can obtain the Euler angle and Quaternion, but we actually don't know what the orientation of the car is. You may imagine where the car point to by using the Euler angle. But with the Quaternion? No way!\n",
    "\n",
    "Therefore, the demo below can visualize the IMU's orientation at reat time.\n",
    "\n",
    "Firstly, initialize the [matplotlib](https://matplotlib.org/index.html) before visualization."
   ]
  },
  {
   "cell_type": "code",
   "execution_count": null,
   "metadata": {},
   "outputs": [],
   "source": [
    "import matplotlib\n",
    "import matplotlib.pyplot as plt\n",
    "from matplotlib.patches import FancyArrowPatch\n",
    "from mpl_toolkits.mplot3d import proj3d\n",
    "#from IPython import display\n",
    "import numpy as np\n",
    "\n",
    "ax = plt.axes(projection='3d')\n",
    "plt.cla();"
   ]
  },
  {
   "cell_type": "markdown",
   "metadata": {},
   "source": [
    "A **qua2vec** function can help us \"translate\" the quaternion.It receive a vector in the sensor's reference frame, rotate it to the Earth's reference frame and output.\n",
    "\n",
    "And we will go into a forever loop to update the animation."
   ]
  },
  {
   "cell_type": "code",
   "execution_count": null,
   "metadata": {},
   "outputs": [],
   "source": [
    "from IPython import display\n",
    "plt.ion()\n",
    "fig = plt.figure(1)\n",
    "ax = fig.gca(projection='3d')\n",
    "ax.set_zlim3d(-1, 1)\n",
    "ax.set_ylim3d(-1, 1)\n",
    "ax.set_xlim3d(-1, 1)\n",
    "ax.set_aspect(\"equal\")\n",
    "\n",
    "def qua2vec(qua, a_x, a_y, a_z):\n",
    "    a_xe = 2*a_x * (0.5 - qua[2] * qua[2] - qua[3] * qua[3]) + 2*a_y * (qua[1]*qua[2] - qua[0]*qua[3]) + 2*a_z * (qua[1]*qua[3] + qua[0]*qua[2]);\n",
    "    a_ye = 2*a_x * (qua[1]*qua[2] + qua[0]*qua[3]) + 2*a_y * (0.5 - qua[1] * qua[1] - qua[3] * qua[3]) + 2*a_z * (qua[2]*qua[3] - qua[0]*qua[1]);\n",
    "    a_ze = 2*a_x * (qua[1]*qua[3] - qua[0]*qua[2]) + 2*a_y * (qua[2]*qua[3] + qua[0]*qua[1]) + 2*a_z * (0.5 - qua[1] * qua[1] - qua[2] * qua[2]);\n",
    "    return [a_xe, a_ye, a_ze]\n",
    "while True:\n",
    "    qua = IMU.get_qua()\n",
    "    [a_xe, a_ye, a_ze] = qua2vec(qua, 1, 0, 0);\n",
    "    q0 = ax.quiver(0, 0, 0, a_xe, a_ye, a_ze, color='red', length=1.0)\n",
    "    [a_xe, a_ye, a_ze] = qua2vec(qua, 0, 1, 0);\n",
    "    q1 = ax.quiver(0, 0, 0, a_xe, a_ye, a_ze, color='green', length=1.0)\n",
    "    [a_xe, a_ye, a_ze] = qua2vec(qua, 0, 0, 1);\n",
    "    q2 = ax.quiver(0, 0, 0, a_xe, a_ye, a_ze, color='blue', length=1.0)\n",
    "    display.clear_output(wait=True)\n",
    "    display.display(fig)\n",
    "    q0.remove()\n",
    "    q1.remove()\n",
    "    q2.remove()"
   ]
  }
 ],
 "metadata": {
  "kernelspec": {
   "display_name": "Python 3",
   "language": "python",
   "name": "python3"
  },
  "language_info": {
   "codemirror_mode": {
    "name": "ipython",
    "version": 3
   },
   "file_extension": ".py",
   "mimetype": "text/x-python",
   "name": "python",
   "nbconvert_exporter": "python",
   "pygments_lexer": "ipython3",
   "version": "3.6.5"
  }
 },
 "nbformat": 4,
 "nbformat_minor": 1
}
