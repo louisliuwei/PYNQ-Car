{
 "cells": [
  {
   "cell_type": "markdown",
   "metadata": {},
   "source": [
    "# Automoto Example\n",
    "\n",
    "This example shows how to use the [Automoto](http://www.dfrobot.com.cn/goods-1200.html) on the board.  The automoto has been set in the four corners of the vehicle. The speed and direction of the whole vehicle can be set freely.\n",
    "\n",
    "For this notebook, a PYNQ Arduino is also required. The automoto is attached to the arbitrary connection to PYNQ."
   ]
  },
  {
   "cell_type": "code",
   "execution_count": 1,
   "metadata": {
    "scrolled": true
   },
   "outputs": [
    {
     "data": {
      "application/javascript": [
       "\n",
       "require(['notebook/js/codecell'], function(codecell) {\n",
       "  codecell.CodeCell.options_default.highlight_modes[\n",
       "      'magic_text/x-csrc'] = {'reg':[/^%%microblaze/]};\n",
       "  Jupyter.notebook.events.one('kernel_ready.Kernel', function(){\n",
       "      Jupyter.notebook.get_cells().map(function(cell){\n",
       "          if (cell.cell_type == 'code'){ cell.auto_highlight(); } }) ;\n",
       "  });\n",
       "});\n"
      ]
     },
     "metadata": {},
     "output_type": "display_data"
    }
   ],
   "source": [
    "# Make sure the base overlay is loaded\n",
    "from pynq.overlays.base import BaseOverlay\n",
    "Robot = BaseOverlay(\"Robot.bit\")"
   ]
  },
  {
   "cell_type": "markdown",
   "metadata": {},
   "source": [
    "### 1. Instantiate and set the pins of automotos"
   ]
  },
  {
   "cell_type": "code",
   "execution_count": 2,
   "metadata": {
    "scrolled": true
   },
   "outputs": [],
   "source": [
    "from pynq.lib.arduino import Automoto\n",
    "from time import sleep"
   ]
  },
  {
   "cell_type": "markdown",
   "metadata": {},
   "source": [
    "Before you use automoto, you can set the pins connected to arduino freely.\n",
    "\n",
    "the PINS should obey the rules as followed:\n",
    "\n",
    "PINS[0:4] is set the pins to control the pwm generate io for motor a,b,c,d in sequence\n",
    "\n",
    "PINS[4:8] is to set the pin to control the direction of motor (1 normal, 0 reverse)\n",
    "\n",
    "PINS[8:12] is to set the pins to record the velocity(FG)\n",
    "\n",
    " * auotmoto a: right front\n",
    " * auotmoto b: right rear\n",
    " * automoto c: left sacro-anterior / left front\n",
    " * auotmoto d: left rear"
   ]
  },
  {
   "cell_type": "code",
   "execution_count": 3,
   "metadata": {},
   "outputs": [],
   "source": [
    "PINS = [5,6,4,7,3,2,9,8,11,10,13,12]\n",
    "\n",
    "# Instantiate automoto on Arduino\n",
    "motor = Automoto(Robot.ARDUINO,PINS)"
   ]
  },
  {
   "cell_type": "markdown",
   "metadata": {},
   "source": [
    "There are ten moving model provided, each model can adjust velocity freely"
   ]
  },
  {
   "cell_type": "code",
   "execution_count": null,
   "metadata": {},
   "outputs": [],
   "source": [
    "DIRECTION = [\"FORWARD\",\"BACKWARD\",\n",
    "             \"LEFT\", \"RIGHT\",\n",
    "             \"TURN_LEFT\",\"TURN_RIGHT\"\n",
    "             \"FORWARD_LEFT\",\"FORWARD_RIGHT\",\n",
    "             \"BACK_LEFT\",\"BACK_RIGHT\"]"
   ]
  },
  {
   "cell_type": "markdown",
   "metadata": {},
   "source": [
    "Now, you can test the motor by control it to move as you like"
   ]
  },
  {
   "cell_type": "markdown",
   "metadata": {},
   "source": [
    "### 2. Control the car to move\n",
    "\n",
    "input the direction into motor.move() function, the default power is set as 50%\n",
    "\n",
    "and the range of power is from 0 - 100 (unit: percent)\n",
    "\n",
    "e.g.\n",
    "* motor.move(\"FORWARD\") legal\n",
    "* motor.move(\"BACKWARD\", 60) legal\n",
    "* motor.move(\"backward\") illegal\n",
    "* motor.move(\"FORWARD_LEFT\",101) illegal"
   ]
  },
  {
   "cell_type": "code",
   "execution_count": null,
   "metadata": {},
   "outputs": [],
   "source": [
    "motor.move(\"FORWARD\", 50)# 50 is the power of the motor\n",
    "sleep(2)\n",
    "motor.stop()"
   ]
  },
  {
   "cell_type": "code",
   "execution_count": null,
   "metadata": {},
   "outputs": [],
   "source": [
    "motor.move(\"BACKWARD\", 50)# 50 is the power of the motor\n",
    "sleep(2)\n",
    "motor.stop()"
   ]
  },
  {
   "cell_type": "code",
   "execution_count": null,
   "metadata": {},
   "outputs": [],
   "source": [
    "motor.move(\"TURN_LEFT\", 50)# 50 is the power of the motor\n",
    "sleep(2)\n",
    "motor.stop()"
   ]
  },
  {
   "cell_type": "code",
   "execution_count": null,
   "metadata": {},
   "outputs": [],
   "source": [
    "motor.move(\"TURN_RIGHT\", 50)# 50 is the power of the motor\n",
    "sleep(2)\n",
    "motor.stop()"
   ]
  },
  {
   "cell_type": "code",
   "execution_count": null,
   "metadata": {},
   "outputs": [],
   "source": [
    "motor.move(\"FORWARD_LEFT\", 50)# 50 is the power of the motor\n",
    "sleep(2)\n",
    "motor.stop()"
   ]
  },
  {
   "cell_type": "code",
   "execution_count": null,
   "metadata": {},
   "outputs": [],
   "source": [
    "motor.move(\"BACK_RIGHT\", 50)# 50 is the power of the motor\n",
    "sleep(2)\n",
    "motor.stop()"
   ]
  },
  {
   "cell_type": "markdown",
   "metadata": {},
   "source": [
    "A **pulse counter IP** is developed and used to count the pulse from the orthogonal encoder mounted on the motor.\n",
    "<img src=\"data/PulseCounter.png\" width=\"300px\"/>\n",
    "By appropriately convert the pulse number to actual distance covered by the tyre, you can get know how far did the robot car go.\n",
    "Calling the function **distance()** can retrieve the distance from the odometry.\n",
    "```python\n",
    "motor.distance(option, motor)\n",
    "# option - 0: read-only; 1: read and clear the record;\n",
    "# motor - 1: the left motor; 2: the right motor;\n",
    "```"
   ]
  },
  {
   "cell_type": "code",
   "execution_count": null,
   "metadata": {},
   "outputs": [],
   "source": [
    "print('Left motor has covered distance: ',motor.distance(1,1),'m')\n",
    "print('Right motor has covered distance: ',motor.distance(1,2),'m')"
   ]
  },
  {
   "cell_type": "code",
   "execution_count": null,
   "metadata": {},
   "outputs": [],
   "source": []
  }
 ],
 "metadata": {
  "kernelspec": {
   "display_name": "Python 3",
   "language": "python",
   "name": "python3"
  },
  "language_info": {
   "codemirror_mode": {
    "name": "ipython",
    "version": 3
   },
   "file_extension": ".py",
   "mimetype": "text/x-python",
   "name": "python",
   "nbconvert_exporter": "python",
   "pygments_lexer": "ipython3",
   "version": "3.6.5"
  }
 },
 "nbformat": 4,
 "nbformat_minor": 1
}
