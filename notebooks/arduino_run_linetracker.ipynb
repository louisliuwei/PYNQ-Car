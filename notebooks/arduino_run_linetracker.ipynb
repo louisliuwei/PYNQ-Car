{
 "cells": [
  {
   "cell_type": "markdown",
   "metadata": {},
   "source": [
    "# Run linetracker Example\n",
    "\n",
    "This example shows how to use the both linetrackers and automoto on the board.  You are supposed to used arduino_automoto.ipynb and arduino_linetracker.ipynb separately before using this book.\n",
    "\n",
    "For this notebook, a PYNQ Arduino is also required. Pins of device should be set the same in the previous notebooks."
   ]
  },
  {
   "cell_type": "code",
   "execution_count": 1,
   "metadata": {
    "scrolled": true
   },
   "outputs": [
    {
     "data": {
      "application/javascript": [
       "\n",
       "require(['notebook/js/codecell'], function(codecell) {\n",
       "  codecell.CodeCell.options_default.highlight_modes[\n",
       "      'magic_text/x-csrc'] = {'reg':[/^%%microblaze/]};\n",
       "  Jupyter.notebook.events.one('kernel_ready.Kernel', function(){\n",
       "      Jupyter.notebook.get_cells().map(function(cell){\n",
       "          if (cell.cell_type == 'code'){ cell.auto_highlight(); } }) ;\n",
       "  });\n",
       "});\n"
      ]
     },
     "metadata": {},
     "output_type": "display_data"
    }
   ],
   "source": [
    "# Make sure the base overlay is loaded\n",
    "from pynq.overlays.base import BaseOverlay\n",
    "base = BaseOverlay(\"base.bit\")"
   ]
  },
  {
   "cell_type": "markdown",
   "metadata": {},
   "source": [
    "### 1. Instantiate and set the pins of automotos and linetrackers"
   ]
  },
  {
   "cell_type": "code",
   "execution_count": 2,
   "metadata": {
    "scrolled": true
   },
   "outputs": [],
   "source": [
    "from pynq.lib.arduino import Run_LT\n",
    "from time import sleep"
   ]
  },
  {
   "cell_type": "markdown",
   "metadata": {},
   "source": [
    "Before you use automoto, you can set the pins connected to arduino freely.\n",
    "\n",
    "the PINS should obey the rules as followed:\n",
    "\n",
    "PINS[0:4] is set the pins to control the pwm generate io for motor a,b,c,d in sequence\n",
    "\n",
    "PINS[4:8] is to set the pin to control the direction of motor (1 normal, 0 reverse)\n",
    "\n",
    "PINS[8:12] is to set the pins to record the velocity(FG)\n",
    "\n",
    " * auotmoto a: right front\n",
    " * auotmoto b: right rear\n",
    " * automoto c: left sacro-anterior / left front\n",
    " * auotmoto d: left rear"
   ]
  },
  {
   "cell_type": "code",
   "execution_count": 3,
   "metadata": {
    "scrolled": true
   },
   "outputs": [
    {
     "name": "stdout",
     "output_type": "stream",
     "text": [
      "[5, 6, 4, 7, 3, 2, 9, 8, 11, 10, 13, 12, 3, 4]\n"
     ]
    }
   ],
   "source": [
    "PINS = [5,6,4,7,3,2,9,8,11,10,13,12] #default pins of automoto\n",
    "LT_PINS = [\"CHANNEL_A0\",\"CHANNEL_A1\",\"CHANNEL_A2\",\n",
    "           \"CHANNEL_A3\",\"CHANNEL_A4\",\"CHANNEL_A5\"]\n",
    "\n",
    "# Instantiate automoto on Arduino\n",
    "run_lt = Run_LT(base.ARDUINO,\"CHANNEL_A3\", \"CHANNEL_A4\", PINS)\n",
    "#for linetrackers\n",
    "#default pins is left:CHANNEL_A3, right:CHANNEL_A4\n",
    "#if you set the pins as the default configuration\n",
    "#linetrack = LT_sen(base.ARDUINO) such a format is legal"
   ]
  },
  {
   "cell_type": "markdown",
   "metadata": {},
   "source": [
    "There are six moving model provided, each model can adjust velocity freely"
   ]
  },
  {
   "cell_type": "code",
   "execution_count": null,
   "metadata": {},
   "outputs": [],
   "source": [
    "DIRECTION = [\"FORWARD\",\"BACKWARD\",\n",
    "             \"LEFT_S\",\"RIGHT_S\",\n",
    "             \"LEFT_R\",\"RIGHT_R\"]"
   ]
  },
  {
   "cell_type": "markdown",
   "metadata": {},
   "source": [
    "### 2. Control the car to move by following the line\n",
    "\n",
    "input the direction into run_lt.move() function, the default power is set as 50%\n",
    "\n",
    "and the range of power is from 0 - 100 (unit: percent)\n",
    "\n",
    "e.g.\n",
    "* run_lt.move(\"FORWARD\") legal\n",
    "* run_lt.move(\"BACKWARD\", 60) legal\n",
    "* run_lt.move(\"backward\") illegal\n",
    "* run_lt.move(\"LEFT_S\",101) illegal\n",
    "\n",
    "The threshold can be set depend by your own.\n",
    "\n",
    "In this example, the threshold is 0.65"
   ]
  },
  {
   "cell_type": "code",
   "execution_count": 7,
   "metadata": {},
   "outputs": [
    {
     "name": "stdout",
     "output_type": "stream",
     "text": [
      "Run to the terminal!\n"
     ]
    }
   ],
   "source": [
    "while(1):\n",
    "    data = run_lt.read_lt_data()\n",
    "    if data[2] > 0.65 and data[3] < 0.65: \n",
    "        run_lt.move(\"LEFT_R\")\n",
    "        sleep(0.1)\n",
    "        run_lt.move(\"FORWARD\")\n",
    "    elif data[3] > 0.65 and data[2] < 0.65:\n",
    "        run_lt.move(\"RIGHT_R\")\n",
    "        sleep(0.1)\n",
    "        run_lt.move(\"FORWARD\")\n",
    "    elif data[2] > 0.65 and data[3] > 0.65: \n",
    "        run_lt.stop()\n",
    "        break\n",
    "    else: run_lt.move(\"FORWARD\")\n",
    "print(\"Run to the terminal!\")"
   ]
  },
  {
   "cell_type": "code",
   "execution_count": 6,
   "metadata": {},
   "outputs": [
    {
     "name": "stdout",
     "output_type": "stream",
     "text": [
      "[282, 387, 0.01, 0.02]\n"
     ]
    }
   ],
   "source": [
    "data = run_lt.read_lt_data()\n",
    "print(data)"
   ]
  },
  {
   "cell_type": "code",
   "execution_count": null,
   "metadata": {},
   "outputs": [],
   "source": [
    "run_lt.stop()"
   ]
  },
  {
   "cell_type": "code",
   "execution_count": null,
   "metadata": {},
   "outputs": [],
   "source": [
    "run_lt.move(\"FORWARD\")"
   ]
  },
  {
   "cell_type": "code",
   "execution_count": null,
   "metadata": {},
   "outputs": [],
   "source": []
  }
 ],
 "metadata": {
  "kernelspec": {
   "display_name": "Python 3",
   "language": "python",
   "name": "python3"
  },
  "language_info": {
   "codemirror_mode": {
    "name": "ipython",
    "version": 3
   },
   "file_extension": ".py",
   "mimetype": "text/x-python",
   "name": "python",
   "nbconvert_exporter": "python",
   "pygments_lexer": "ipython3",
   "version": "3.6.5"
  }
 },
 "nbformat": 4,
 "nbformat_minor": 1
}
