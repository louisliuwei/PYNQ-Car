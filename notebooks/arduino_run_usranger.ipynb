{
 "cells": [
  {
   "cell_type": "markdown",
   "metadata": {},
   "source": [
    "# Run usranger Example\n",
    "\n",
    "This example shows how to use the both usranger and automoto on the board. \n",
    "\n",
    "For this notebook, a PYNQ Arduino is also required. Pins of device should be set the same in the previous notebooks."
   ]
  },
  {
   "cell_type": "code",
   "execution_count": 1,
   "metadata": {
    "scrolled": true
   },
   "outputs": [
    {
     "data": {
      "application/javascript": [
       "\n",
       "require(['notebook/js/codecell'], function(codecell) {\n",
       "  codecell.CodeCell.options_default.highlight_modes[\n",
       "      'magic_text/x-csrc'] = {'reg':[/^%%microblaze/]};\n",
       "  Jupyter.notebook.events.one('kernel_ready.Kernel', function(){\n",
       "      Jupyter.notebook.get_cells().map(function(cell){\n",
       "          if (cell.cell_type == 'code'){ cell.auto_highlight(); } }) ;\n",
       "  });\n",
       "});\n"
      ]
     },
     "metadata": {},
     "output_type": "display_data"
    }
   ],
   "source": [
    "# Make sure the base overlay is loaded\n",
    "from pynq.overlays.base import BaseOverlay\n",
    "base = BaseOverlay(\"base.bit\")"
   ]
  },
  {
   "cell_type": "markdown",
   "metadata": {},
   "source": [
    "### 1. Instantiate and set the pins of automotos and usrangers"
   ]
  },
  {
   "cell_type": "code",
   "execution_count": 2,
   "metadata": {
    "scrolled": true
   },
   "outputs": [],
   "source": [
    "from pynq.lib.arduino import Run_usranger\n",
    "from time import sleep"
   ]
  },
  {
   "cell_type": "markdown",
   "metadata": {},
   "source": [
    "Before you use automoto, you can set the pins connected to arduino freely.\n",
    "\n",
    "the PINS should obey the rules as followed:\n",
    "\n",
    "PINS[0:4] is set the pins to control the pwm generate io for motor a,b,c,d in sequence\n",
    "\n",
    "PINS[4:8] is to set the pin to control the direction of motor (1 normal, 0 reverse)\n",
    "\n",
    "PINS[8:12] is to set the pins to record the velocity(FG)\n",
    "\n",
    " * auotmoto a: right front\n",
    " * auotmoto b: right rear\n",
    " * automoto c: left sacro-anterior / left front\n",
    " * auotmoto d: left rear"
   ]
  },
  {
   "cell_type": "code",
   "execution_count": 3,
   "metadata": {
    "scrolled": true
   },
   "outputs": [],
   "source": [
    "PINS = [5,6,4,7,3,2,9,8,11,10,13,12] #default pins of automoto\n",
    "\n",
    "# Instantiate automoto on Arduino\n",
    "run_us = Run_usranger(base.ARDUINO, PINS)"
   ]
  },
  {
   "cell_type": "markdown",
   "metadata": {},
   "source": [
    "There are six moving model provided, each model can adjust velocity freely"
   ]
  },
  {
   "cell_type": "code",
   "execution_count": 19,
   "metadata": {},
   "outputs": [],
   "source": [
    "DIRECTION = [\"FORWARD\",\"BACKWARD\",\n",
    "             \"LEFT_S\",\"RIGHT_S\",\n",
    "             \"LEFT_R\",\"RIGHT_R\"]"
   ]
  },
  {
   "cell_type": "markdown",
   "metadata": {},
   "source": [
    "We can use the **get_distance** function to obtain the distance to the obstacle in front of the robot car.\n",
    "\n",
    "To be noticed, because of the defraction, the distance to a far obstacle will not always be reliable."
   ]
  },
  {
   "cell_type": "code",
   "execution_count": 75,
   "metadata": {},
   "outputs": [
    {
     "name": "stdout",
     "output_type": "stream",
     "text": [
      "233\n"
     ]
    }
   ],
   "source": [
    "data = run_us.get_distance()\n",
    "print(data)"
   ]
  },
  {
   "cell_type": "markdown",
   "metadata": {},
   "source": [
    "### 2. Control the car to move by using the information of usranger\n",
    "\n",
    "input the direction into run_us.move() function, the default power is set as 50%\n",
    "\n",
    "and the range of power is from 0 - 100 (unit: percent)\n",
    "\n",
    "e.g.\n",
    "* run_lt.move(\"FORWARD\") legal\n",
    "* run_lt.move(\"BACKWARD\", 60) legal\n",
    "* run_lt.move(\"backward\") illegal\n",
    "* run_lt.move(\"LEFT_S\",101) illegal\n",
    "\n",
    "The threshold can be set depend by your own.\n",
    "\n",
    "In this example, the threshold is 10 (centimeter)"
   ]
  },
  {
   "cell_type": "code",
   "execution_count": 24,
   "metadata": {},
   "outputs": [
    {
     "name": "stdout",
     "output_type": "stream",
     "text": [
      "147.0\n",
      "130.33333333333334\n",
      "107.0\n",
      "83.66666666666667\n",
      "61.0\n",
      "36.666666666666664\n",
      "27.333333333333332\n",
      "12.333333333333334\n",
      "2.6666666666666665\n",
      "4.0\n",
      "61.333333333333336\n",
      "45.0\n",
      "5.333333333333333\n",
      "93.33333333333333\n",
      "35.666666666666664\n",
      "105.66666666666667\n",
      "128.66666666666666\n",
      "105.66666666666667\n",
      "33.0\n",
      "22.333333333333332\n",
      "112.0\n",
      "93.33333333333333\n",
      "126.0\n",
      "36.666666666666664\n",
      "65.66666666666667\n",
      "49.333333333333336\n",
      "39.666666666666664\n",
      "33.333333333333336\n",
      "38.0\n",
      "33.333333333333336\n",
      "58.0\n",
      "106.33333333333333\n",
      "51.333333333333336\n",
      "130.66666666666666\n",
      "64.33333333333333\n",
      "43.333333333333336\n",
      "33.666666666666664\n",
      "26.333333333333332\n",
      "12.666666666666666\n",
      "4.666666666666667\n",
      "56.0\n",
      "25.0\n",
      "10.666666666666666\n",
      "17.666666666666668\n",
      "95.33333333333333\n",
      "43.666666666666664\n",
      "55.0\n",
      "33.333333333333336\n",
      "17.666666666666668\n",
      "7.666666666666667\n",
      "11.666666666666666\n",
      "46.333333333333336\n",
      "53.666666666666664\n",
      "57.0\n",
      "50.0\n",
      "36.0\n",
      "24.666666666666668\n",
      "15.0\n",
      "9.666666666666666\n",
      "3.0\n",
      "4.666666666666667\n",
      "4.0\n",
      "7.333333333333333\n",
      "8.0\n",
      "38.333333333333336\n",
      "41.0\n",
      "46.0\n",
      "48.666666666666664\n",
      "48.0\n",
      "40.333333333333336\n",
      "37.333333333333336\n",
      "43.333333333333336\n",
      "45.0\n",
      "44.0\n",
      "48.0\n",
      "50.0\n",
      "46.666666666666664\n",
      "39.333333333333336\n",
      "20.666666666666668\n",
      "17.666666666666668\n",
      "156.66666666666666\n",
      "154.33333333333334\n",
      "143.66666666666666\n",
      "159.33333333333334\n",
      "45.333333333333336\n",
      "26.0\n",
      "8.333333333333334\n",
      "7.666666666666667\n",
      "32.333333333333336\n",
      "162.66666666666666\n",
      "135.33333333333334\n",
      "162.33333333333334\n",
      "9.666666666666666\n",
      "9.333333333333334\n",
      "60.333333333333336\n",
      "60.666666666666664\n",
      "9.666666666666666\n",
      "7.666666666666667\n",
      "56.0\n",
      "56.0\n",
      "56.0\n",
      "9.666666666666666\n",
      "9.333333333333334\n",
      "55.0\n",
      "51.0\n",
      "33.333333333333336\n",
      "39.666666666666664\n",
      "92.0\n",
      "159.66666666666666\n",
      "8.666666666666666\n",
      "8.0\n",
      "124.66666666666667\n",
      "149.33333333333334\n",
      "129.0\n",
      "133.33333333333334\n",
      "9.0\n",
      "5.333333333333333\n",
      "154.0\n",
      "129.33333333333334\n",
      "160.33333333333334\n",
      "136.0\n",
      "8.333333333333334\n",
      "6.0\n",
      "6.0\n",
      "6.666666666666667\n",
      "8.0\n",
      "7.333333333333333\n",
      "9.0\n",
      "5.666666666666667\n",
      "3.3333333333333335\n",
      "67.0\n",
      "14.0\n",
      "5.666666666666667\n",
      "3.6666666666666665\n",
      "3.6666666666666665\n",
      "8.666666666666666\n",
      "5.333333333333333\n",
      "6.333333333333333\n",
      "8.333333333333334\n",
      "5.333333333333333\n",
      "6.666666666666667\n",
      "165.66666666666666\n",
      "148.66666666666666\n",
      "9.0\n",
      "8.333333333333334\n",
      "156.66666666666666\n",
      "163.33333333333334\n",
      "102.66666666666667\n",
      "6.666666666666667\n",
      "4.666666666666667\n",
      "86.0\n",
      "55.0\n",
      "36.0\n",
      "78.33333333333333\n",
      "61.666666666666664\n",
      "39.0\n",
      "34.666666666666664\n",
      "36.333333333333336\n",
      "35.0\n",
      "35.0\n",
      "35.0\n",
      "35.0\n",
      "35.0\n"
     ]
    },
    {
     "ename": "KeyboardInterrupt",
     "evalue": "",
     "output_type": "error",
     "traceback": [
      "\u001b[0;31m---------------------------------------------------------------------------\u001b[0m",
      "\u001b[0;31mKeyboardInterrupt\u001b[0m                         Traceback (most recent call last)",
      "\u001b[0;32m<ipython-input-24-540821e41ebc>\u001b[0m in \u001b[0;36m<module>\u001b[0;34m()\u001b[0m\n\u001b[1;32m      4\u001b[0m     \u001b[0;32mfor\u001b[0m \u001b[0mi\u001b[0m \u001b[0;32min\u001b[0m \u001b[0mrange\u001b[0m\u001b[0;34m(\u001b[0m\u001b[0;36m3\u001b[0m\u001b[0;34m)\u001b[0m\u001b[0;34m:\u001b[0m\u001b[0;34m\u001b[0m\u001b[0m\n\u001b[1;32m      5\u001b[0m         \u001b[0mdata\u001b[0m \u001b[0;34m+=\u001b[0m \u001b[0mrun_us\u001b[0m\u001b[0;34m.\u001b[0m\u001b[0mget_distance\u001b[0m\u001b[0;34m(\u001b[0m\u001b[0;34m)\u001b[0m\u001b[0;34m\u001b[0m\u001b[0m\n\u001b[0;32m----> 6\u001b[0;31m         \u001b[0msleep\u001b[0m\u001b[0;34m(\u001b[0m\u001b[0;36m0.06\u001b[0m\u001b[0;34m)\u001b[0m\u001b[0;34m\u001b[0m\u001b[0m\n\u001b[0m\u001b[1;32m      7\u001b[0m     \u001b[0mdata\u001b[0m \u001b[0;34m=\u001b[0m \u001b[0mdata\u001b[0m\u001b[0;34m/\u001b[0m\u001b[0;36m3\u001b[0m\u001b[0;34m\u001b[0m\u001b[0m\n\u001b[1;32m      8\u001b[0m     \u001b[0mprint\u001b[0m\u001b[0;34m(\u001b[0m\u001b[0mdata\u001b[0m\u001b[0;34m)\u001b[0m\u001b[0;34m\u001b[0m\u001b[0m\n",
      "\u001b[0;31mKeyboardInterrupt\u001b[0m: "
     ]
    }
   ],
   "source": [
    "while(1):\n",
    "    sleep(0.2)\n",
    "    data = 0\n",
    "    for i in range(3):\n",
    "        data += run_us.get_distance()\n",
    "        sleep(0.06)\n",
    "    data = data/3\n",
    "    print(data)\n",
    "    if data < 50:\n",
    "        run_us.move(\"RIGHT_S\")\n",
    "        sleep(0.2)\n",
    "    else: \n",
    "        run_us.move(\"FORWARD\", 50)\n",
    "        sleep(0.5)\n",
    "    if data == 1000:\n",
    "        run_us.stop()\n",
    "        print(\"usranger ought to reboot!\")\n",
    "        break\n",
    "print(\"Run to the terminal!\")"
   ]
  },
  {
   "cell_type": "code",
   "execution_count": 21,
   "metadata": {},
   "outputs": [
    {
     "name": "stdout",
     "output_type": "stream",
     "text": [
      "50\n"
     ]
    }
   ],
   "source": []
  },
  {
   "cell_type": "code",
   "execution_count": 25,
   "metadata": {},
   "outputs": [],
   "source": [
    "run_us.stop()"
   ]
  },
  {
   "cell_type": "code",
   "execution_count": null,
   "metadata": {},
   "outputs": [],
   "source": []
  }
 ],
 "metadata": {
  "kernelspec": {
   "display_name": "Python 3",
   "language": "python",
   "name": "python3"
  },
  "language_info": {
   "codemirror_mode": {
    "name": "ipython",
    "version": 3
   },
   "file_extension": ".py",
   "mimetype": "text/x-python",
   "name": "python",
   "nbconvert_exporter": "python",
   "pygments_lexer": "ipython3",
   "version": "3.6.5"
  }
 },
 "nbformat": 4,
 "nbformat_minor": 1
}
