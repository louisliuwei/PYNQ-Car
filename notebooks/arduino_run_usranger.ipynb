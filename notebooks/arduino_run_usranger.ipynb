{
 "cells": [
  {
   "cell_type": "markdown",
   "metadata": {},
   "source": [
    "# Run usranger Example\n",
    "\n",
    "This example shows how to use the both usranger and automoto on the board. \n",
    "\n",
    "For this notebook, a PYNQ Arduino is also required. Pins of device should be set the same in the previous notebooks."
   ]
  },
  {
   "cell_type": "code",
   "execution_count": 1,
   "metadata": {
    "scrolled": true
   },
   "outputs": [
    {
     "data": {
      "application/javascript": [
       "\n",
       "require(['notebook/js/codecell'], function(codecell) {\n",
       "  codecell.CodeCell.options_default.highlight_modes[\n",
       "      'magic_text/x-csrc'] = {'reg':[/^%%microblaze/]};\n",
       "  Jupyter.notebook.events.one('kernel_ready.Kernel', function(){\n",
       "      Jupyter.notebook.get_cells().map(function(cell){\n",
       "          if (cell.cell_type == 'code'){ cell.auto_highlight(); } }) ;\n",
       "  });\n",
       "});\n"
      ]
     },
     "metadata": {},
     "output_type": "display_data"
    }
   ],
   "source": [
    "# Make sure the base overlay is loaded\n",
    "from pynq.overlays.base import BaseOverlay\n",
    "base = BaseOverlay(\"base.bit\")"
   ]
  },
  {
   "cell_type": "markdown",
   "metadata": {},
   "source": [
    "### 1. Instantiate and set the pins of automotos and usrangers"
   ]
  },
  {
   "cell_type": "code",
   "execution_count": 2,
   "metadata": {
    "scrolled": true
   },
   "outputs": [],
   "source": [
    "from pynq.lib.arduino import Run_usranger\n",
    "from time import sleep"
   ]
  },
  {
   "cell_type": "markdown",
   "metadata": {},
   "source": [
    "Before you use automoto, you can set the pins connected to arduino freely.\n",
    "\n",
    "the PINS should obey the rules as followed:\n",
    "\n",
    "PINS[0:4] is set the pins to control the pwm generate io for motor a,b,c,d in sequence\n",
    "\n",
    "PINS[4:8] is to set the pin to control the direction of motor (1 normal, 0 reverse)\n",
    "\n",
    "PINS[8:12] is to set the pins to record the velocity(FG)\n",
    "\n",
    " * auotmoto a: right front\n",
    " * auotmoto b: right rear\n",
    " * automoto c: left sacro-anterior / left front\n",
    " * auotmoto d: left rear"
   ]
  },
  {
   "cell_type": "code",
   "execution_count": 3,
   "metadata": {
    "scrolled": true
   },
   "outputs": [],
   "source": [
    "PINS = [5,6,4,7,3,2,9,8,11,10,13,12] #default pins of automoto\n",
    "\n",
    "# Instantiate automoto on Arduino\n",
    "run_us = Run_usranger(base.ARDUINO, PINS)"
   ]
  },
  {
   "cell_type": "markdown",
   "metadata": {},
   "source": [
    "There are ten moving model provided, each model can adjust velocity freely"
   ]
  },
  {
   "cell_type": "code",
   "execution_count": 4,
   "metadata": {},
   "outputs": [],
   "source": [
    "DIRECTION = [\"FORWARD\",\"BACKWARD\",\n",
    "             \"LEFT\", \"RIGHT\",\n",
    "             \"TURN_LEFT\",\"TURN_RIGHT\"\n",
    "             \"FORWARD_LEFT\",\"FORWARD_RIGHT\",\n",
    "             \"BACK_LEFT\",\"BACK_RIGHT\"]"
   ]
  },
  {
   "cell_type": "markdown",
   "metadata": {},
   "source": [
    "We can use the **get_distance** function to obtain the distance to the obstacle in front of the robot car.\n",
    "\n",
    "To be noticed, because of the defraction, the distance to a far obstacle will not always be reliable."
   ]
  },
  {
   "cell_type": "code",
   "execution_count": 5,
   "metadata": {},
   "outputs": [
    {
     "name": "stdout",
     "output_type": "stream",
     "text": [
      "35\n"
     ]
    }
   ],
   "source": [
    "data = run_us.get_distance()\n",
    "print(data)"
   ]
  },
  {
   "cell_type": "markdown",
   "metadata": {},
   "source": [
    "### 2. Control the car to move by using the information of usranger\n",
    "\n",
    "input the direction into run_us.move() function, the default power is set as 50%\n",
    "\n",
    "and the range of power is from 0 - 100 (unit: percent)\n",
    "\n",
    "e.g.\n",
    "* run_lt.move(\"FORWARD\") legal\n",
    "* run_lt.move(\"BACKWARD\", 60) legal\n",
    "* run_lt.move(\"backward\") illegal\n",
    "* run_lt.move(\"LEFT_S\",101) illegal\n",
    "\n",
    "The threshold can be set depend by your own.\n",
    "\n",
    "In this example, the threshold is 10 (centimeter)"
   ]
  },
  {
   "cell_type": "code",
   "execution_count": 6,
   "metadata": {},
   "outputs": [
    {
     "name": "stdout",
     "output_type": "stream",
     "text": [
      "34.666666666666664\n",
      "35.0\n",
      "34.666666666666664\n",
      "35.0\n",
      "36.666666666666664\n",
      "47.666666666666664\n",
      "48.0\n",
      "46.333333333333336\n",
      "44.0\n",
      "47.0\n",
      "69.66666666666667\n",
      "75.0\n",
      "85.0\n",
      "86.66666666666667\n",
      "43.666666666666664\n",
      "24.666666666666668\n",
      "16.333333333333332\n",
      "56.333333333333336\n",
      "82.33333333333333\n",
      "40.0\n",
      "56.0\n",
      "43.666666666666664\n",
      "80.33333333333333\n",
      "39.666666666666664\n",
      "87.66666666666667\n",
      "38.666666666666664\n",
      "72.66666666666667\n",
      "43.666666666666664\n",
      "53.333333333333336\n",
      "47.666666666666664\n",
      "50.0\n",
      "80.0\n",
      "39.0\n",
      "38.333333333333336\n",
      "36.666666666666664\n",
      "38.333333333333336\n",
      "41.333333333333336\n",
      "41.0\n",
      "40.666666666666664\n",
      "42.333333333333336\n",
      "45.666666666666664\n",
      "45.0\n",
      "45.0\n",
      "45.0\n",
      "45.0\n",
      "43.0\n",
      "41.666666666666664\n",
      "44.666666666666664\n",
      "42.0\n",
      "43.0\n"
     ]
    },
    {
     "name": "stderr",
     "output_type": "stream",
     "text": [
      "ERROR:root:Internal Python error in the inspect module.\n",
      "Below is the traceback from this internal error.\n",
      "\n"
     ]
    },
    {
     "name": "stdout",
     "output_type": "stream",
     "text": [
      "Traceback (most recent call last):\n",
      "  File \"/usr/lib/python3/dist-packages/IPython/core/interactiveshell.py\", line 2882, in run_code\n",
      "    exec(code_obj, self.user_global_ns, self.user_ns)\n",
      "  File \"<ipython-input-6-551012633aef>\", line 2, in <module>\n",
      "    sleep(0.2)\n",
      "KeyboardInterrupt\n",
      "\n",
      "During handling of the above exception, another exception occurred:\n",
      "\n",
      "Traceback (most recent call last):\n",
      "  File \"/usr/lib/python3/dist-packages/IPython/core/interactiveshell.py\", line 1823, in showtraceback\n",
      "    stb = value._render_traceback_()\n",
      "AttributeError: 'KeyboardInterrupt' object has no attribute '_render_traceback_'\n",
      "\n",
      "During handling of the above exception, another exception occurred:\n",
      "\n",
      "Traceback (most recent call last):\n",
      "  File \"/usr/lib/python3/dist-packages/IPython/core/ultratb.py\", line 1132, in get_records\n",
      "    return _fixed_getinnerframes(etb, number_of_lines_of_context, tb_offset)\n",
      "  File \"/usr/lib/python3/dist-packages/IPython/core/ultratb.py\", line 313, in wrapped\n",
      "    return f(*args, **kwargs)\n",
      "  File \"/usr/lib/python3/dist-packages/IPython/core/ultratb.py\", line 358, in _fixed_getinnerframes\n",
      "    records = fix_frame_records_filenames(inspect.getinnerframes(etb, context))\n",
      "  File \"/usr/lib/python3.6/inspect.py\", line 1483, in getinnerframes\n",
      "    frameinfo = (tb.tb_frame,) + getframeinfo(tb, context)\n",
      "  File \"/usr/lib/python3.6/inspect.py\", line 1441, in getframeinfo\n",
      "    filename = getsourcefile(frame) or getfile(frame)\n",
      "  File \"/usr/lib/python3.6/inspect.py\", line 696, in getsourcefile\n",
      "    if getattr(getmodule(object, filename), '__loader__', None) is not None:\n",
      "  File \"/usr/lib/python3.6/inspect.py\", line 739, in getmodule\n",
      "    f = getabsfile(module)\n",
      "  File \"/usr/lib/python3.6/inspect.py\", line 708, in getabsfile\n",
      "    _filename = getsourcefile(object) or getfile(object)\n",
      "  File \"/usr/lib/python3.6/inspect.py\", line 693, in getsourcefile\n",
      "    if os.path.exists(filename):\n",
      "  File \"/usr/lib/python3.6/genericpath.py\", line 19, in exists\n",
      "    os.stat(path)\n",
      "KeyboardInterrupt\n"
     ]
    },
    {
     "ename": "KeyboardInterrupt",
     "evalue": "",
     "output_type": "error",
     "traceback": [
      "\u001b[0;31m---------------------------------------------------------------------------\u001b[0m"
     ]
    }
   ],
   "source": [
    "while(1):\n",
    "    sleep(0.2)\n",
    "    data = 0\n",
    "    for i in range(3):\n",
    "        data += run_us.get_distance()\n",
    "        sleep(0.06)\n",
    "    data = data/3\n",
    "    print(data)\n",
    "    if data < 50:\n",
    "        run_us.move(\"TURN_RIGHT\")\n",
    "        sleep(0.2)\n",
    "    else: \n",
    "        run_us.move(\"FORWARD\", 50)\n",
    "        sleep(0.5)\n",
    "    if data == 1000:\n",
    "        run_us.stop()\n",
    "        print(\"usranger ought to reboot!\")\n",
    "        break\n",
    "print(\"Run to the terminal!\")"
   ]
  },
  {
   "cell_type": "code",
   "execution_count": 8,
   "metadata": {},
   "outputs": [],
   "source": [
    "run_us.stop()"
   ]
  },
  {
   "cell_type": "code",
   "execution_count": null,
   "metadata": {},
   "outputs": [],
   "source": []
  }
 ],
 "metadata": {
  "kernelspec": {
   "display_name": "Python 3",
   "language": "python",
   "name": "python3"
  },
  "language_info": {
   "codemirror_mode": {
    "name": "ipython",
    "version": 3
   },
   "file_extension": ".py",
   "mimetype": "text/x-python",
   "name": "python",
   "nbconvert_exporter": "python",
   "pygments_lexer": "ipython3",
   "version": "3.6.5"
  }
 },
 "nbformat": 4,
 "nbformat_minor": 1
}
