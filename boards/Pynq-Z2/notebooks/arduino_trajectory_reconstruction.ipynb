{
 "cells": [
  {
   "cell_type": "markdown",
   "metadata": {},
   "source": [
    "# Trajectory construction based on 10DOF IMU\n",
    "\n",
    "This example shows how to use the [10DOF IMU sensor](http://www.dfrobot.com.cn/goods-1860.html) and the automoto module to construct trajectory of the car.\n",
    "\n",
    "For this notebook, a PYNQ Arduino is required, and the IMU sensor should connect to the I2C interface."
   ]
  },
  {
   "cell_type": "markdown",
   "metadata": {},
   "source": [
    "### 1. Load overlay"
   ]
  },
  {
   "cell_type": "code",
   "execution_count": 1,
   "metadata": {},
   "outputs": [
    {
     "data": {
      "application/javascript": [
       "\n",
       "require(['notebook/js/codecell'], function(codecell) {\n",
       "  codecell.CodeCell.options_default.highlight_modes[\n",
       "      'magic_text/x-csrc'] = {'reg':[/^%%microblaze/]};\n",
       "  Jupyter.notebook.events.one('kernel_ready.Kernel', function(){\n",
       "      Jupyter.notebook.get_cells().map(function(cell){\n",
       "          if (cell.cell_type == 'code'){ cell.auto_highlight(); } }) ;\n",
       "  });\n",
       "});\n"
      ]
     },
     "metadata": {},
     "output_type": "display_data"
    }
   ],
   "source": [
    "from pynq.overlays.base import BaseOverlay\n",
    "base = BaseOverlay(\"Robot.bit\")"
   ]
  },
  {
   "cell_type": "markdown",
   "metadata": {},
   "source": [
    "### 2. Read single axis data and control the car to move\n",
    "This example shows on how to get a Axis data from the 10DOF IMU sensor.\n",
    "\n",
    "10DOF IMU sensor contains accelerometer, gyroscope and magnetometer, which can provides real-time raw sample of the sensed acceleration, angular rate and magnetic field."
   ]
  },
  {
   "cell_type": "code",
   "execution_count": 4,
   "metadata": {},
   "outputs": [],
   "source": [
    "import math\n",
    "from pynq.lib.arduino import RUN_IMU\n",
    "from time import sleep\n",
    "\n",
    "PINS = [5,6,4,7,3,2,9,8,11,10,13,12]\n",
    "IMU = RUN_IMU(base.ARDUINO, 1, PINS)"
   ]
  },
  {
   "cell_type": "markdown",
   "metadata": {},
   "source": [
    "There are six moving model provided, each model can adjust velocity freely"
   ]
  },
  {
   "cell_type": "code",
   "execution_count": 5,
   "metadata": {},
   "outputs": [],
   "source": [
    "DIRECTION = [\"FORWARD\",\"BACKWARD\",\n",
    "             \"LEFT_S\",\"RIGHT_S\",\n",
    "             \"LEFT_R\",\"RIGHT_R\"]"
   ]
  },
  {
   "cell_type": "markdown",
   "metadata": {},
   "source": [
    "The raw data can also be retrieved from the IMU"
   ]
  },
  {
   "cell_type": "code",
   "execution_count": 6,
   "metadata": {},
   "outputs": [
    {
     "name": "stdout",
     "output_type": "stream",
     "text": [
      "Acceleration is -48.0 -51.0 981.0\n",
      "Angular rate is 0.06 -0.19 0.0\n",
      "Magnetic field is -68.56 17.5 -0.75\n"
     ]
    }
   ],
   "source": [
    "[ax, ay, az, gx, gy, gz, mx, my, mz] = IMU.get_axis()\n",
    "print(\"Acceleration is\",float(\"{0:.2f}\".format(ax)),float(\"{0:.2f}\".format(ay)),float(\"{0:.2f}\".format(az)))\n",
    "print(\"Angular rate is\",float(\"{0:.2f}\".format(gx)),float(\"{0:.2f}\".format(gy)),float(\"{0:.2f}\".format(gz)))\n",
    "print(\"Magnetic field is\",float(\"{0:.2f}\".format(mx)),float(\"{0:.2f}\".format(my)),float(\"{0:.2f}\".format(mz)))"
   ]
  },
  {
   "cell_type": "markdown",
   "metadata": {},
   "source": [
    "input the direction into motor.move() function, the default power is set as 50%\n",
    "\n",
    "and the range of power is from 0 - 100 (unit: percent)\n",
    "\n",
    "e.g.\n",
    "* motor.move(\"FORWARD\") legal\n",
    "* motor.move(\"BACKWARD\", 60) legal\n",
    "* motor.move(\"backward\") illegal\n",
    "* motor.move(\"LEFT_S\",101) illegal"
   ]
  },
  {
   "cell_type": "code",
   "execution_count": 7,
   "metadata": {},
   "outputs": [],
   "source": [
    "IMU.move(\"FORWARD\", 50)# 50 is the power of the motor\n",
    "sleep(2)\n",
    "IMU.stop()"
   ]
  },
  {
   "cell_type": "code",
   "execution_count": 8,
   "metadata": {},
   "outputs": [
    {
     "name": "stdout",
     "output_type": "stream",
     "text": [
      "Left motor has covered distance:  0.6262236066666667\n",
      "Right motor has covered distance:  0.6118901022916666\n"
     ]
    }
   ],
   "source": [
    "print('Left motor has covered distance: ',IMU.distance(1,1))\n",
    "print('Right motor has covered distance: ',IMU.distance(1,2))"
   ]
  },
  {
   "cell_type": "markdown",
   "metadata": {},
   "source": [
    "### 3. Advanced: Trajectory construction\n",
    "The 10DOF IMU sensor possess a on-chip MCU which can calculate the Euler angle and Quaternion based on the information from the three sensors which may relieve the user's work on sensor fusion.This example shows how to get the data from the sensor."
   ]
  },
  {
   "cell_type": "code",
   "execution_count": null,
   "metadata": {},
   "outputs": [],
   "source": [
    "[head, roll, pitch] = IMU.get_eul()\n",
    "print(\"The Euler angle-- Head:\",float(\"{0:.2f}\".format(head)),\"Roll:\",float(\"{0:.2f}\".format(roll)),\"Pitch:\",float(\"{0:.2f}\".format(pitch)))"
   ]
  },
  {
   "cell_type": "code",
   "execution_count": null,
   "metadata": {},
   "outputs": [],
   "source": [
    "[w, x, y, z] = IMU.get_qua()\n",
    "print(\"The Quaternion-- w:\",w,\"x:\",x,\"y:\",y,\"z:\",z)"
   ]
  },
  {
   "cell_type": "markdown",
   "metadata": {},
   "source": [
    "Although we can obtain the Euler angle and Quaternion, but we actually don't know what the orientation of the car is. You may imagine where the car point to by using the Euler angle. But with the Quaternion? No way!\n",
    "\n",
    "Therefore, the demo below can visualize the IMU's orientation at reat time.\n",
    "\n",
    "Firstly, initialize the [matplotlib](https://matplotlib.org/index.html) before visualization."
   ]
  },
  {
   "cell_type": "code",
   "execution_count": null,
   "metadata": {},
   "outputs": [],
   "source": [
    "import matplotlib\n",
    "import matplotlib.pyplot as plt\n",
    "from matplotlib.patches import FancyArrowPatch\n",
    "from mpl_toolkits.mplot3d import proj3d\n",
    "#from IPython import display\n",
    "import numpy as np"
   ]
  },
  {
   "cell_type": "markdown",
   "metadata": {},
   "source": [
    "A **qua2vec** function can help us \"translate\" the quaternion.It receive a vector in the sensor's reference frame, rotate it to the Earth's reference frame and output.\n",
    "\n",
    "In the next demo, we demonstrate the ability of trajectory reconstruction based on odometry and IMU.\n",
    "We use two threads to control the car remotely and construct the trajectory. The main thread receives control command from the remote control client on host PC. The display thread run in a forever loop to reconstruct the trajectory and update the animation. The left figure shows the orientation of the sensor, the right figure displays the reconstructed trajectory.\n",
    "<img src=\"data/Trajectory.png\" width=\"600px\"/>\n",
    "One thing should be noticed is that, the update process is so slow due to the slow painting. So it **won't** construct a very accurate trajectory if you move and rotate the robot car too fast."
   ]
  },
  {
   "cell_type": "code",
   "execution_count": null,
   "metadata": {},
   "outputs": [],
   "source": [
    "import threading\n",
    "import socket\n",
    "from IPython import display\n",
    "\n",
    "plt.ion()\n",
    "plt.rcParams['figure.figsize'] = (15.0, 12.0)\n",
    "fig = plt.figure(1)\n",
    "ax = fig.add_subplot(1, 2, 1, projection='3d')\n",
    "ax.set_zlim3d(-1, 1)\n",
    "ax.set_ylim3d(-1, 1)\n",
    "ax.set_xlim3d(-1, 1)\n",
    "ax.set_aspect(\"equal\")\n",
    "ax2 = fig.add_subplot(1, 2, 2, projection='3d')\n",
    "ax2.set_zlim3d(-1, 1)\n",
    "ax2.set_ylim3d(-1, 1)\n",
    "ax2.set_xlim3d(-1, 1)\n",
    "ax2.set_aspect(\"equal\")\n",
    "\n",
    "def qua2vec(qua, a_x, a_y, a_z):\n",
    "    a_xe = 2*a_x * (0.5 - qua[2] * qua[2] - qua[3] * qua[3]) + 2*a_y * (qua[1]*qua[2] - qua[0]*qua[3]) + 2*a_z * (qua[1]*qua[3] + qua[0]*qua[2]);\n",
    "    a_ye = 2*a_x * (qua[1]*qua[2] + qua[0]*qua[3]) + 2*a_y * (0.5 - qua[1] * qua[1] - qua[3] * qua[3]) + 2*a_z * (qua[2]*qua[3] - qua[0]*qua[1]);\n",
    "    a_ze = 2*a_x * (qua[1]*qua[3] - qua[0]*qua[2]) + 2*a_y * (qua[2]*qua[3] + qua[0]*qua[1]) + 2*a_z * (0.5 - qua[1] * qua[1] - qua[2] * qua[2]);\n",
    "    return [a_xe, a_ye, a_ze]\n",
    "\n",
    "class DisplayThread (threading.Thread):\n",
    "    def __init__(self):\n",
    "        super(DisplayThread, self).__init__()\n",
    "        self.__running = threading.Event()      # 用于停止线程的标识\n",
    "        self.__running.set()\n",
    "    def run(self):\n",
    "        nowx = 0\n",
    "        nowy = 0\n",
    "        nowz = 0\n",
    "        q0 = None\n",
    "        while self.__running.isSet():\n",
    "            qua = IMU.get_qua()\n",
    "            dis = (IMU.distance(0,1) + IMU.distance(0,2)) / 2;\n",
    "            IMU.distance(1,1);\n",
    "            IMU.distance(1,2);\n",
    "            if not q0 is None:\n",
    "                q0.remove()\n",
    "                q1.remove()\n",
    "                q2.remove()\n",
    "            [a_xe, a_ye, a_ze] = qua2vec(qua, 1, 0, 0);\n",
    "            q0 = ax.quiver(0, 0, 0, a_xe, a_ye, a_ze, color='red', length=1.0)\n",
    "            [a_xe, a_ye, a_ze] = qua2vec(qua, 0, 1, 0);\n",
    "            q1 = ax.quiver(0, 0, 0, a_xe, a_ye, a_ze, color='green', length=1.0)\n",
    "            [a_xe, a_ye, a_ze] = qua2vec(qua, 0, 0, 1);\n",
    "            q2 = ax.quiver(0, 0, 0, a_xe, a_ye, a_ze, color='blue', length=1.0)\n",
    "\n",
    "            [a_xe, a_ye, a_ze] = qua2vec(qua, dis, 0, 0);\n",
    "            ax2.plot([nowx, nowx+a_xe], [nowy, nowy+a_ye], [nowz, nowz+a_ze], 'k--')\n",
    "            nowx = nowx + a_xe\n",
    "            nowy = nowy + a_ye\n",
    "            nowz = nowz + a_ze\n",
    "\n",
    "            display.clear_output(wait=True)\n",
    "            display.display(fig)\n",
    "    def stop(self):\n",
    "        self.__running.clear()\n",
    "\n",
    "thread1 = DisplayThread()\n",
    "thread1.start()\n",
    "\n",
    "ip_port = ('172.29.80.2',8484)\n",
    "web = socket.socket()\n",
    "web.bind(ip_port)\n",
    "web.listen(5)\n",
    "conn,addr = web.accept()\n",
    "while True:\n",
    "    data = conn.recv(1024)\n",
    "    if (data == b'FORWARD'):\n",
    "        IMU.move(\"FORWARD\", 50)# 50 is the power of the motor\n",
    "    elif (data == b'BACKWARD'):\n",
    "        IMU.move(\"BACKWARD\", 50)\n",
    "    elif (data == b'LEFT_R'):\n",
    "        IMU.move(\"LEFT_R\", 80)\n",
    "    elif (data == b'RIGHT_R'):\n",
    "        IMU.move(\"RIGHT_R\", 80)\n",
    "    elif (data == b'LEFT_S'):\n",
    "        IMU.move(\"LEFT_S\", 80)\n",
    "    elif (data == b'RIGHT_S'):\n",
    "        IMU.move(\"RIGHT_S\", 80)\n",
    "    elif (data == b'STOP'):\n",
    "        IMU.stop()\n",
    "    elif (data == b'EXIT'):\n",
    "        IMU.stop()\n",
    "        break\n",
    "\n",
    "conn.close()\n",
    "web.close()\n",
    "thread1.stop()"
   ]
  },
  {
   "cell_type": "code",
   "execution_count": null,
   "metadata": {},
   "outputs": [],
   "source": []
  }
 ],
 "metadata": {
  "kernelspec": {
   "display_name": "Python 3",
   "language": "python",
   "name": "python3"
  },
  "language_info": {
   "codemirror_mode": {
    "name": "ipython",
    "version": 3
   },
   "file_extension": ".py",
   "mimetype": "text/x-python",
   "name": "python",
   "nbconvert_exporter": "python",
   "pygments_lexer": "ipython3",
   "version": "3.6.5"
  }
 },
 "nbformat": 4,
 "nbformat_minor": 1
}
