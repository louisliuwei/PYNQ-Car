{
 "cells": [
  {
   "cell_type": "markdown",
   "metadata": {},
   "source": [
    "# Run gesture sensor Example\n",
    "\n",
    "This example shows how to use the both gesture sensor and automoto on the board.  You are supposed to used arduino_automoto.ipynb and arduino_gesture.ipynb separately before using this book.\n",
    "\n",
    "For this notebook, a PYNQ Arduino is also required. Pins of device should be set the same in the previous notebooks."
   ]
  },
  {
   "cell_type": "code",
   "execution_count": 1,
   "metadata": {
    "scrolled": true
   },
   "outputs": [
    {
     "data": {
      "application/javascript": [
       "\n",
       "require(['notebook/js/codecell'], function(codecell) {\n",
       "  codecell.CodeCell.options_default.highlight_modes[\n",
       "      'magic_text/x-csrc'] = {'reg':[/^%%microblaze/]};\n",
       "  Jupyter.notebook.events.one('kernel_ready.Kernel', function(){\n",
       "      Jupyter.notebook.get_cells().map(function(cell){\n",
       "          if (cell.cell_type == 'code'){ cell.auto_highlight(); } }) ;\n",
       "  });\n",
       "});\n"
      ]
     },
     "metadata": {},
     "output_type": "display_data"
    }
   ],
   "source": [
    "from pynq.overlays.base import BaseOverlay\n",
    "base = BaseOverlay(\"Robot.bit\")"
   ]
  },
  {
   "cell_type": "markdown",
   "metadata": {},
   "source": [
    "### 1. Instantiate and set the pins of automotos and gesture sensor"
   ]
  },
  {
   "cell_type": "code",
   "execution_count": 2,
   "metadata": {
    "scrolled": true
   },
   "outputs": [],
   "source": [
    "from pynq.lib.arduino import Run_gesture\n",
    "from time import sleep"
   ]
  },
  {
   "cell_type": "markdown",
   "metadata": {},
   "source": [
    "Before you use automoto, you can set the pins connected to arduino freely.\n",
    "\n",
    "the PINS should obey the rules as followed:\n",
    "\n",
    "PINS[0:4] is set the pins to control the pwm generate io for motor a,b,c,d in sequence\n",
    "\n",
    "PINS[4:8] is to set the pin to control the direction of motor (1 normal, 0 reverse)\n",
    "\n",
    "PINS[8:12] is to set the pins to record the velocity(FG)\n",
    "\n",
    " * auotmoto a: right front\n",
    " * auotmoto b: right rear\n",
    " * automoto c: left sacro-anterior / left front\n",
    " * auotmoto d: left rear"
   ]
  },
  {
   "cell_type": "code",
   "execution_count": 3,
   "metadata": {
    "scrolled": true
   },
   "outputs": [
    {
     "name": "stdout",
     "output_type": "stream",
     "text": [
      "gesture sensor intialization succeed\n"
     ]
    }
   ],
   "source": [
    "PINS = [5,6,4,7,3,2,9,8,11,10,13,12] #default pins of automoto\n",
    "\n",
    "# Instantiate automoto on Arduino\n",
    "run_ges = Run_gesture(base.ARDUINO, 0, PINS)"
   ]
  },
  {
   "cell_type": "markdown",
   "metadata": {},
   "source": [
    "There are six moving model provided, each model can adjust velocity freely"
   ]
  },
  {
   "cell_type": "code",
   "execution_count": null,
   "metadata": {},
   "outputs": [],
   "source": [
    "DIRECTION = [\"FORWARD\",\"BACKWARD\",\n",
    "             \"LEFT_S\",\"RIGHT_S\",\n",
    "             \"LEFT_R\",\"RIGHT_R\"]\n",
    "GESTURE = [\"NONE\", \"LEFT\", \"RIGHT\", \"UP\",\n",
    "                \"DOWN\", \"NEAR\", \"FAR\", \"ALL\"]"
   ]
  },
  {
   "cell_type": "markdown",
   "metadata": {},
   "source": [
    "### 2. Control the car to move by following the line\n",
    "\n",
    "input the direction into run_lt.move() function, the default power is set as 50%\n",
    "\n",
    "and the range of power is from 0 - 100 (unit: percent)\n",
    "\n",
    "e.g.\n",
    "* run_lt.move(\"FORWARD\") legal\n",
    "* run_lt.move(\"BACKWARD\", 60) legal\n",
    "* run_lt.move(\"backward\") illegal\n",
    "* run_lt.move(\"LEFT_S\",101) illegal\n",
    "\n",
    "The threshold can be set depend by your own.\n",
    "\n",
    "In this example, the threshold is 0.65"
   ]
  },
  {
   "cell_type": "code",
   "execution_count": 6,
   "metadata": {},
   "outputs": [
    {
     "name": "stdout",
     "output_type": "stream",
     "text": [
      "None\n",
      "None\n",
      "None\n",
      "None\n",
      "None\n",
      "NONE\n",
      "None\n",
      "None\n",
      "DOWN\n",
      "NONE\n",
      "None\n",
      "None\n",
      "None\n",
      "None\n",
      "None\n",
      "None\n",
      "None\n",
      "None\n",
      "None\n",
      "NONE\n",
      "None\n",
      "None\n",
      "NONE\n",
      "None\n",
      "UP\n",
      "None\n",
      "None\n",
      "DOWN\n",
      "None\n",
      "None\n",
      "LEFT\n",
      "None\n",
      "None\n",
      "None\n",
      "RIGHT\n",
      "None\n",
      "None\n",
      "None\n",
      "RIGHT\n",
      "None\n",
      "None\n",
      "None\n",
      "None\n",
      "RIGHT\n",
      "None\n",
      "None\n",
      "None\n",
      "RIGHT\n",
      "None\n",
      "None\n",
      "None\n",
      "LEFT\n",
      "None\n",
      "None\n",
      "None\n",
      "None\n",
      "UP\n",
      "None\n",
      "None\n",
      "None\n",
      "UP\n",
      "None\n",
      "None\n",
      "None\n",
      "None\n",
      "UP\n",
      "None\n",
      "None\n",
      "NONE\n",
      "NONE\n",
      "None\n",
      "NONE\n",
      "None\n",
      "DOWN\n",
      "None\n",
      "None\n",
      "None\n",
      "UP\n",
      "None\n",
      "None\n",
      "DOWN\n",
      "None\n",
      "None\n",
      "None\n",
      "None\n",
      "None\n",
      "None\n",
      "None\n",
      "None\n",
      "RIGHT\n",
      "None\n",
      "None\n",
      "None\n",
      "NONE\n",
      "None\n",
      "None\n",
      "LEFT\n",
      "None\n",
      "None\n",
      "None\n",
      "None\n",
      "None\n",
      "None\n",
      "None\n",
      "None\n",
      "LEFT\n",
      "None\n",
      "None\n",
      "None\n",
      "None\n",
      "None\n",
      "None\n",
      "None\n",
      "None\n",
      "None\n",
      "NONE\n",
      "None\n",
      "NONE\n",
      "None\n",
      "LEFT\n",
      "NONE\n"
     ]
    },
    {
     "ename": "KeyboardInterrupt",
     "evalue": "",
     "output_type": "error",
     "traceback": [
      "\u001b[0;31m---------------------------------------------------------------------------\u001b[0m",
      "\u001b[0;31mKeyboardInterrupt\u001b[0m                         Traceback (most recent call last)",
      "\u001b[0;32m<ipython-input-6-d588c5da3cd8>\u001b[0m in \u001b[0;36m<module>\u001b[0;34m()\u001b[0m\n\u001b[1;32m      1\u001b[0m \u001b[0;32mwhile\u001b[0m\u001b[0;34m(\u001b[0m\u001b[0;36m1\u001b[0m\u001b[0;34m)\u001b[0m\u001b[0;34m:\u001b[0m\u001b[0;34m\u001b[0m\u001b[0m\n\u001b[1;32m      2\u001b[0m     \u001b[0mdata\u001b[0m \u001b[0;34m=\u001b[0m \u001b[0;34m[\u001b[0m\u001b[0;34m]\u001b[0m\u001b[0;34m\u001b[0m\u001b[0m\n\u001b[0;32m----> 3\u001b[0;31m     \u001b[0mdata\u001b[0m \u001b[0;34m=\u001b[0m \u001b[0mrun_ges\u001b[0m\u001b[0;34m.\u001b[0m\u001b[0mread_gesture\u001b[0m\u001b[0;34m(\u001b[0m\u001b[0;34m)\u001b[0m\u001b[0;34m\u001b[0m\u001b[0m\n\u001b[0m\u001b[1;32m      4\u001b[0m     \u001b[0mprint\u001b[0m\u001b[0;34m(\u001b[0m\u001b[0mdata\u001b[0m\u001b[0;34m)\u001b[0m\u001b[0;34m\u001b[0m\u001b[0m\n\u001b[1;32m      5\u001b[0m     \u001b[0;32mif\u001b[0m \u001b[0mdata\u001b[0m \u001b[0;34m==\u001b[0m \u001b[0;34m\"UP\"\u001b[0m\u001b[0;34m:\u001b[0m\u001b[0;34m\u001b[0m\u001b[0m\n",
      "\u001b[0;32m/usr/local/lib/python3.6/dist-packages/pynq/lib/arduino/arduino_run_gesture.py\u001b[0m in \u001b[0;36mread_gesture\u001b[0;34m(self)\u001b[0m\n\u001b[1;32m    209\u001b[0m \u001b[0;34m\u001b[0m\u001b[0m\n\u001b[1;32m    210\u001b[0m         \"\"\"\n\u001b[0;32m--> 211\u001b[0;31m         \u001b[0mself\u001b[0m\u001b[0;34m.\u001b[0m\u001b[0mmicroblaze\u001b[0m\u001b[0;34m.\u001b[0m\u001b[0mwrite_blocking_command\u001b[0m\u001b[0;34m(\u001b[0m\u001b[0mREAD_GESTURE\u001b[0m\u001b[0;34m)\u001b[0m\u001b[0;34m\u001b[0m\u001b[0m\n\u001b[0m\u001b[1;32m    212\u001b[0m         \u001b[0mdata\u001b[0m \u001b[0;34m=\u001b[0m \u001b[0mself\u001b[0m\u001b[0;34m.\u001b[0m\u001b[0mmicroblaze\u001b[0m\u001b[0;34m.\u001b[0m\u001b[0mread_mailbox\u001b[0m\u001b[0;34m(\u001b[0m\u001b[0;36m0\u001b[0m\u001b[0;34m,\u001b[0m \u001b[0;36m2\u001b[0m\u001b[0;34m)\u001b[0m\u001b[0;34m\u001b[0m\u001b[0m\n\u001b[1;32m    213\u001b[0m         \u001b[0;32mif\u001b[0m \u001b[0mdata\u001b[0m\u001b[0;34m[\u001b[0m\u001b[0;36m0\u001b[0m\u001b[0;34m]\u001b[0m\u001b[0;34m:\u001b[0m\u001b[0;34m\u001b[0m\u001b[0m\n",
      "\u001b[0;32m/usr/local/lib/python3.6/dist-packages/pynq/lib/arduino/arduino.py\u001b[0m in \u001b[0;36mwrite_blocking_command\u001b[0;34m(self, command)\u001b[0m\n\u001b[1;32m    153\u001b[0m         \"\"\"\n\u001b[1;32m    154\u001b[0m         \u001b[0mself\u001b[0m\u001b[0;34m.\u001b[0m\u001b[0mwrite\u001b[0m\u001b[0;34m(\u001b[0m\u001b[0mMAILBOX_OFFSET\u001b[0m \u001b[0;34m+\u001b[0m \u001b[0mMAILBOX_PY2IOP_CMD_OFFSET\u001b[0m\u001b[0;34m,\u001b[0m \u001b[0mcommand\u001b[0m\u001b[0;34m)\u001b[0m\u001b[0;34m\u001b[0m\u001b[0m\n\u001b[0;32m--> 155\u001b[0;31m         \u001b[0;32mwhile\u001b[0m \u001b[0mself\u001b[0m\u001b[0;34m.\u001b[0m\u001b[0mread\u001b[0m\u001b[0;34m(\u001b[0m\u001b[0mMAILBOX_OFFSET\u001b[0m \u001b[0;34m+\u001b[0m \u001b[0mMAILBOX_PY2IOP_CMD_OFFSET\u001b[0m\u001b[0;34m)\u001b[0m \u001b[0;34m!=\u001b[0m \u001b[0;36m0\u001b[0m\u001b[0;34m:\u001b[0m\u001b[0;34m\u001b[0m\u001b[0m\n\u001b[0m\u001b[1;32m    156\u001b[0m             \u001b[0;32mpass\u001b[0m\u001b[0;34m\u001b[0m\u001b[0m\n\u001b[1;32m    157\u001b[0m \u001b[0;34m\u001b[0m\u001b[0m\n",
      "\u001b[0;32m/usr/local/lib/python3.6/dist-packages/pynq/lib/pynqmicroblaze/pynqmicroblaze.py\u001b[0m in \u001b[0;36mread\u001b[0;34m(self, offset, length)\u001b[0m\n\u001b[1;32m    304\u001b[0m         \"\"\"\n\u001b[1;32m    305\u001b[0m         \u001b[0;32mif\u001b[0m \u001b[0mlength\u001b[0m \u001b[0;34m==\u001b[0m \u001b[0;36m1\u001b[0m\u001b[0;34m:\u001b[0m\u001b[0;34m\u001b[0m\u001b[0m\n\u001b[0;32m--> 306\u001b[0;31m             \u001b[0;32mreturn\u001b[0m \u001b[0mself\u001b[0m\u001b[0;34m.\u001b[0m\u001b[0mmmio\u001b[0m\u001b[0;34m.\u001b[0m\u001b[0mread\u001b[0m\u001b[0;34m(\u001b[0m\u001b[0moffset\u001b[0m\u001b[0;34m)\u001b[0m\u001b[0;34m\u001b[0m\u001b[0m\n\u001b[0m\u001b[1;32m    307\u001b[0m         \u001b[0;32melif\u001b[0m \u001b[0mlength\u001b[0m \u001b[0;34m>\u001b[0m \u001b[0;36m1\u001b[0m\u001b[0;34m:\u001b[0m\u001b[0;34m\u001b[0m\u001b[0m\n\u001b[1;32m    308\u001b[0m             \u001b[0;32mreturn\u001b[0m \u001b[0;34m[\u001b[0m\u001b[0mself\u001b[0m\u001b[0;34m.\u001b[0m\u001b[0mmmio\u001b[0m\u001b[0;34m.\u001b[0m\u001b[0mread\u001b[0m\u001b[0;34m(\u001b[0m\u001b[0moffset\u001b[0m \u001b[0;34m+\u001b[0m \u001b[0;36m4\u001b[0m\u001b[0;34m*\u001b[0m\u001b[0mi\u001b[0m\u001b[0;34m)\u001b[0m \u001b[0;32mfor\u001b[0m \u001b[0mi\u001b[0m \u001b[0;32min\u001b[0m \u001b[0mrange\u001b[0m\u001b[0;34m(\u001b[0m\u001b[0mlength\u001b[0m\u001b[0;34m)\u001b[0m\u001b[0;34m]\u001b[0m\u001b[0;34m\u001b[0m\u001b[0m\n",
      "\u001b[0;31mKeyboardInterrupt\u001b[0m: "
     ]
    }
   ],
   "source": [
    "while(1):\n",
    "    data = []\n",
    "    data = run_ges.read_gesture()\n",
    "    print(data)\n",
    "    if data == \"UP\": \n",
    "        run_ges.move(\"BACKWARD\")\n",
    "        sleep(2)\n",
    "    elif data == \"DOWN\":\n",
    "        run_ges.move(\"FORWARD\")\n",
    "        sleep(2)\n",
    "    elif data == \"LEFT\": \n",
    "        run_ges.move(\"RIGHT_S\")\n",
    "        sleep(2)\n",
    "    elif data == \"RIGHT\":\n",
    "        run_ges.move(\"LEFT_S\")\n",
    "        sleep(2)\n",
    "    else: run_ges.stop()\n",
    "    sleep(0.5)\n",
    "print(\"Run to the terminal!\")"
   ]
  },
  {
   "cell_type": "code",
   "execution_count": null,
   "metadata": {},
   "outputs": [],
   "source": [
    "data = run_lt.read_lt_data()\n",
    "print(data)"
   ]
  },
  {
   "cell_type": "code",
   "execution_count": 4,
   "metadata": {},
   "outputs": [],
   "source": [
    "run_ges.move(\"BACKWARD\",50)"
   ]
  },
  {
   "cell_type": "code",
   "execution_count": 5,
   "metadata": {},
   "outputs": [
    {
     "name": "stdout",
     "output_type": "stream",
     "text": [
      "-0.4214966583333333\n",
      "-0.3923715010416666\n"
     ]
    }
   ],
   "source": [
    "print(run_ges.distance(1,1))\n",
    "print(run_ges.distance(1,2))\n",
    "run_ges.stop()"
   ]
  },
  {
   "cell_type": "code",
   "execution_count": null,
   "metadata": {},
   "outputs": [],
   "source": [
    "run_ges.stop()"
   ]
  },
  {
   "cell_type": "code",
   "execution_count": null,
   "metadata": {},
   "outputs": [],
   "source": []
  }
 ],
 "metadata": {
  "kernelspec": {
   "display_name": "Python 3",
   "language": "python",
   "name": "python3"
  },
  "language_info": {
   "codemirror_mode": {
    "name": "ipython",
    "version": 3
   },
   "file_extension": ".py",
   "mimetype": "text/x-python",
   "name": "python",
   "nbconvert_exporter": "python",
   "pygments_lexer": "ipython3",
   "version": "3.6.5"
  }
 },
 "nbformat": 4,
 "nbformat_minor": 1
}
